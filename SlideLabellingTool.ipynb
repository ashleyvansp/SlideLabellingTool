{
  "nbformat": 4,
  "nbformat_minor": 0,
  "metadata": {
    "colab": {
      "name": "SlideLabellingTool.ipynb",
      "provenance": [],
      "collapsed_sections": [],
      "authorship_tag": "ABX9TyMTbGljYPV6HKRM0Ktkjehh",
      "include_colab_link": true
    },
    "kernelspec": {
      "name": "python3",
      "display_name": "Python 3"
    },
    "language_info": {
      "name": "python"
    },
    "widgets": {
      "application/vnd.jupyter.widget-state+json": {
        "a3a575aa308f46a1a3850fc458ba4525": {
          "model_module": "@jupyter-widgets/controls",
          "model_name": "FileUploadModel",
          "state": {
            "_view_name": "FileUploadView",
            "_counter": 0,
            "style": "IPY_MODEL_5b8d3d004f0f4ca38a02b4f43d647206",
            "_dom_classes": [],
            "description": "Upload",
            "multiple": true,
            "_model_name": "FileUploadModel",
            "data": [],
            "button_style": "",
            "_view_module": "@jupyter-widgets/controls",
            "_model_module_version": "1.5.0",
            "accept": ".jpg",
            "_view_count": null,
            "disabled": false,
            "_view_module_version": "1.5.0",
            "error": "",
            "description_tooltip": null,
            "metadata": [],
            "_model_module": "@jupyter-widgets/controls",
            "layout": "IPY_MODEL_158c1fcb1e6148f8ba35cd7717dae30b",
            "icon": "upload"
          }
        },
        "5b8d3d004f0f4ca38a02b4f43d647206": {
          "model_module": "@jupyter-widgets/controls",
          "model_name": "ButtonStyleModel",
          "state": {
            "_view_name": "StyleView",
            "_model_name": "ButtonStyleModel",
            "_view_module": "@jupyter-widgets/base",
            "_model_module_version": "1.5.0",
            "_view_count": null,
            "button_color": null,
            "font_weight": "",
            "_view_module_version": "1.2.0",
            "_model_module": "@jupyter-widgets/controls"
          }
        },
        "158c1fcb1e6148f8ba35cd7717dae30b": {
          "model_module": "@jupyter-widgets/base",
          "model_name": "LayoutModel",
          "state": {
            "_view_name": "LayoutView",
            "grid_template_rows": null,
            "right": null,
            "justify_content": null,
            "_view_module": "@jupyter-widgets/base",
            "overflow": null,
            "_model_module_version": "1.2.0",
            "_view_count": null,
            "flex_flow": null,
            "width": null,
            "min_width": null,
            "border": null,
            "align_items": null,
            "bottom": null,
            "_model_module": "@jupyter-widgets/base",
            "top": null,
            "grid_column": null,
            "overflow_y": null,
            "overflow_x": null,
            "grid_auto_flow": null,
            "grid_area": null,
            "grid_template_columns": null,
            "flex": null,
            "_model_name": "LayoutModel",
            "justify_items": null,
            "grid_row": null,
            "max_height": null,
            "align_content": null,
            "visibility": null,
            "align_self": null,
            "height": null,
            "min_height": null,
            "padding": null,
            "grid_auto_rows": null,
            "grid_gap": null,
            "max_width": null,
            "order": null,
            "_view_module_version": "1.2.0",
            "grid_template_areas": null,
            "object_position": null,
            "object_fit": null,
            "grid_auto_columns": null,
            "margin": null,
            "display": null,
            "left": null
          }
        }
      }
    }
  },
  "cells": [
    {
      "cell_type": "markdown",
      "metadata": {
        "id": "view-in-github",
        "colab_type": "text"
      },
      "source": [
        "<a href=\"https://colab.research.google.com/github/ashleyvansp/SlideLabellingTool/blob/main/SlideLabellingTool.ipynb\" target=\"_parent\"><img src=\"https://colab.research.google.com/assets/colab-badge.svg\" alt=\"Open In Colab\"/></a>"
      ]
    },
    {
      "cell_type": "code",
      "metadata": {
        "id": "g7t8nkPPK5Bv",
        "cellView": "form"
      },
      "source": [
        "#@title First, import libraries.\n",
        "%%capture\n",
        "! pip install ipywidgets;\n",
        "import ipywidgets as widgets\n",
        "from IPython import display\n",
        "from PIL import ImageTk, Image\n",
        "import csv\n",
        "from datetime import datetime"
      ],
      "execution_count": null,
      "outputs": []
    },
    {
      "cell_type": "code",
      "metadata": {
        "id": "Db7R8RL7LBMu",
        "cellView": "form",
        "colab": {
          "base_uri": "https://localhost:8080/",
          "height": 49,
          "referenced_widgets": [
            "a3a575aa308f46a1a3850fc458ba4525",
            "5b8d3d004f0f4ca38a02b4f43d647206",
            "158c1fcb1e6148f8ba35cd7717dae30b"
          ]
        },
        "outputId": "f86f482b-eb4e-49a4-e04e-d167ef6a2997"
      },
      "source": [
        "#@title Next, upload images.\n",
        "uploader = widgets.FileUpload(    \n",
        "    accept='.jpg', \n",
        "    multiple=True )\n",
        "uploader"
      ],
      "execution_count": null,
      "outputs": [
        {
          "output_type": "display_data",
          "data": {
            "application/vnd.jupyter.widget-view+json": {
              "model_id": "a3a575aa308f46a1a3850fc458ba4525",
              "version_minor": 0,
              "version_major": 2
            },
            "text/plain": [
              "FileUpload(value={}, accept='.jpg', description='Upload', multiple=True)"
            ]
          },
          "metadata": {
            "tags": []
          }
        }
      ]
    },
    {
      "cell_type": "code",
      "metadata": {
        "id": "e_jpbSRX9gYP",
        "cellView": "form"
      },
      "source": [
        "#@title Next, view images and add labels. Be sure to press Enter after each response to save the label!\n",
        "variable_name = \"\"\n",
        "names_and_labels_list = []\n",
        "def callback(wdgt):\n",
        "  name_and_label = {}\n",
        "  name_and_label['Original file name'] = wdgt.placeholder\n",
        "  name_and_label['Label'] = wdgt.value\n",
        "  names_and_labels_list.append(name_and_label)\n",
        "  # labels[wdgt.placeholder] = wdgt.value\n",
        "  wdgt.description = 'Saved.'\n",
        "\n",
        "for name, contents in uploader.value.items():\n",
        "  image = widgets.Image(\n",
        "        value=contents['content'],\n",
        "        format='png',\n",
        "        width=300,\n",
        "        height=400,\n",
        "    )\n",
        "  text = widgets.Text(\n",
        "      value='',\n",
        "      placeholder=name,\n",
        "      description='Enter label:',\n",
        "      disabled=False,\n",
        "      width = 600,\n",
        "  )\n",
        "  text.on_submit(callback)\n",
        "  display.display(image,text)\n"
      ],
      "execution_count": null,
      "outputs": []
    },
    {
      "cell_type": "code",
      "metadata": {
        "id": "iHeWjCKj-9YT",
        "cellView": "form",
        "colab": {
          "base_uri": "https://localhost:8080/"
        },
        "outputId": "7ebdf205-d592-4809-f6df-8d0730ce0a61"
      },
      "source": [
        "#@title Lastly, save responses to CSV.\n",
        "csv_columns = ['Original file name','Label']\n",
        "now = datetime.now().strftime(\"%d_%m_%Y_%H_%M_%S\")\n",
        "csv_file = \"Image_Labels_%s.csv\" % now\n",
        "try:\n",
        "    with open(csv_file, 'w') as csvfile:\n",
        "        writer = csv.DictWriter(csvfile, fieldnames=csv_columns)\n",
        "        writer.writeheader()\n",
        "        for data in names_and_labels_list:\n",
        "            writer.writerow(data)\n",
        "        print('Responses saved to %s' % csv_file)\n",
        "        print('View responses under the Files icon on the left.')\n",
        "except IOError:\n",
        "    print(\"I/O error\")"
      ],
      "execution_count": null,
      "outputs": [
        {
          "output_type": "stream",
          "text": [
            "Responses saved to Image_Labels_31_03_2021_21_48_41.csv\n",
            "View responses under the Files icon on the left.\n"
          ],
          "name": "stdout"
        }
      ]
    }
  ]
}