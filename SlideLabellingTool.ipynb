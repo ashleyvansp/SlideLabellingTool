{
  "nbformat": 4,
  "nbformat_minor": 0,
  "metadata": {
    "colab": {
      "name": "SlideLabellingTool.ipynb",
      "provenance": [],
      "collapsed_sections": [],
      "include_colab_link": true
    },
    "kernelspec": {
      "display_name": "Python 3",
      "name": "python3"
    },
    "language_info": {
      "name": "python"
    },
    "widgets": {
      "application/vnd.jupyter.widget-state+json": {
        "637b5b212afd43efaa0257c42d76fae6": {
          "model_module": "@jupyter-widgets/controls",
          "model_name": "FileUploadModel",
          "state": {
            "_counter": 9,
            "_dom_classes": [],
            "_model_module": "@jupyter-widgets/controls",
            "_model_module_version": "1.5.0",
            "_model_name": "FileUploadModel",
            "_view_count": null,
            "_view_module": "@jupyter-widgets/controls",
            "_view_module_version": "1.5.0",
            "_view_name": "FileUploadView",
            "accept": ".jpg, .png",
            "button_style": "",
            "data": [
              null,
              null,
              null,
              null,
              null,
              null,
              null,
              null,
              null
            ],
            "description": "Upload",
            "description_tooltip": null,
            "disabled": false,
            "error": "",
            "icon": "upload",
            "layout": "IPY_MODEL_9179b4a741ca424d9901f57da2549089",
            "metadata": [
              {
                "lastModified": 1624641502334,
                "name": "20210523-AB-DOV_R3#-029.png",
                "size": 600525,
                "type": "image/png"
              },
              {
                "lastModified": 1624641502199,
                "name": "20210522-AB-DOV_R2#-038.png",
                "size": 603281,
                "type": "image/png"
              },
              {
                "lastModified": 1624641502027,
                "name": "20210522-AB-DOV_R2#-018.png",
                "size": 602955,
                "type": "image/png"
              },
              {
                "lastModified": 1624641501827,
                "name": "20210522-AB-DOV_R2#-027.png",
                "size": 606222,
                "type": "image/png"
              },
              {
                "lastModified": 1624641501660,
                "name": "20210523-AB-DOV_R3#-039.png",
                "size": 603938,
                "type": "image/png"
              },
              {
                "lastModified": 1624641501496,
                "name": "20210523-AB-DOV_R3#-026.png",
                "size": 604916,
                "type": "image/png"
              },
              {
                "lastModified": 1624641501295,
                "name": "20210523-AB-DOV_R3#-018.png",
                "size": 602133,
                "type": "image/png"
              },
              {
                "lastModified": 1624641500531,
                "name": "20210523-AB-DOV_R3#.png",
                "size": 607317,
                "type": "image/png"
              },
              {
                "lastModified": 1624641500363,
                "name": "20210523-AB-DOV_R4#-013.png",
                "size": 598496,
                "type": "image/png"
              }
            ],
            "multiple": true,
            "style": "IPY_MODEL_06657cae846247e1914f7797a2b02124"
          }
        },
        "9179b4a741ca424d9901f57da2549089": {
          "model_module": "@jupyter-widgets/base",
          "model_name": "LayoutModel",
          "state": {
            "_model_module": "@jupyter-widgets/base",
            "_model_module_version": "1.2.0",
            "_model_name": "LayoutModel",
            "_view_count": null,
            "_view_module": "@jupyter-widgets/base",
            "_view_module_version": "1.2.0",
            "_view_name": "LayoutView",
            "align_content": null,
            "align_items": null,
            "align_self": null,
            "border": null,
            "bottom": null,
            "display": null,
            "flex": null,
            "flex_flow": null,
            "grid_area": null,
            "grid_auto_columns": null,
            "grid_auto_flow": null,
            "grid_auto_rows": null,
            "grid_column": null,
            "grid_gap": null,
            "grid_row": null,
            "grid_template_areas": null,
            "grid_template_columns": null,
            "grid_template_rows": null,
            "height": null,
            "justify_content": null,
            "justify_items": null,
            "left": null,
            "margin": null,
            "max_height": null,
            "max_width": null,
            "min_height": null,
            "min_width": null,
            "object_fit": null,
            "object_position": null,
            "order": null,
            "overflow": null,
            "overflow_x": null,
            "overflow_y": null,
            "padding": null,
            "right": null,
            "top": null,
            "visibility": null,
            "width": null
          }
        },
        "06657cae846247e1914f7797a2b02124": {
          "model_module": "@jupyter-widgets/controls",
          "model_name": "ButtonStyleModel",
          "state": {
            "_model_module": "@jupyter-widgets/controls",
            "_model_module_version": "1.5.0",
            "_model_name": "ButtonStyleModel",
            "_view_count": null,
            "_view_module": "@jupyter-widgets/base",
            "_view_module_version": "1.2.0",
            "_view_name": "StyleView",
            "button_color": null,
            "font_weight": ""
          }
        }
      }
    }
  },
  "cells": [
    {
      "cell_type": "markdown",
      "metadata": {
        "id": "view-in-github",
        "colab_type": "text"
      },
      "source": [
        "<a href=\"https://colab.research.google.com/github/ashleyvansp/SlideLabellingTool/blob/main/SlideLabellingTool.ipynb\" target=\"_parent\"><img src=\"https://colab.research.google.com/assets/colab-badge.svg\" alt=\"Open In Colab\"/></a>"
      ]
    },
    {
      "cell_type": "code",
      "metadata": {
        "cellView": "form",
        "id": "g7t8nkPPK5Bv"
      },
      "source": [
        "#@title 1. Import libraries.\n",
        "%%capture\n",
        "! pip install ipywidgets;\n",
        "import ipywidgets as widgets\n",
        "from IPython import display\n",
        "from PIL import ImageTk, Image\n",
        "import csv\n",
        "from datetime import datetime"
      ],
      "execution_count": null,
      "outputs": []
    },
    {
      "cell_type": "code",
      "metadata": {
        "cellView": "form",
        "colab": {
          "base_uri": "https://localhost:8080/",
          "height": 49,
          "referenced_widgets": [
            "637b5b212afd43efaa0257c42d76fae6",
            "9179b4a741ca424d9901f57da2549089",
            "06657cae846247e1914f7797a2b02124"
          ]
        },
        "id": "Db7R8RL7LBMu",
        "outputId": "8ae314bd-555d-41d3-dece-46e7a9058731"
      },
      "source": [
        "#@title 2. Upload images.\n",
        "uploader = widgets.FileUpload(    \n",
        "    accept='.jpg, .png', \n",
        "    multiple=True )\n",
        "uploader"
      ],
      "execution_count": null,
      "outputs": [
        {
          "output_type": "display_data",
          "data": {
            "application/vnd.jupyter.widget-view+json": {
              "model_id": "637b5b212afd43efaa0257c42d76fae6",
              "version_major": 2,
              "version_minor": 0
            },
            "text/plain": [
              "FileUpload(value={}, accept='.jpg, .png', description='Upload', multiple=True)"
            ]
          },
          "metadata": {
            "tags": []
          }
        }
      ]
    },
    {
      "cell_type": "code",
      "metadata": {
        "cellView": "form",
        "colab": {
          "background_save": true,
          "referenced_widgets": [
            "8d2ee3a720994c1b9620be8a4e0e00c7",
            "4897abf1445c41d5b6ab4f9d0b831ad9",
            "86d01deeaa4e458e922969e872f7bc52",
            "6a3432f20a73432a84faf92f6b4faffd",
            "d2c35138343c46f09f26f9a9c91d0633",
            "425bd0771fcd4d78aa3e9801d1a76099",
            "49342d4b1d044387959802d7d815bc68",
            "3ce5d4e716d14c3692c30bb866a56d4d",
            "cb8dd86582fb4fceb5d29cd02bb463bb",
            "32aedb19fded4de89fb8d43e33127f8e",
            "d1b119adc249404c802e74fe55d55e2c",
            "f99a1425bb284651ba1b6a910c417f54",
            "2113de5a07bd4ba9a0ae4889cf719445",
            "81860db1b4f64422a88e0cfd96c80e23",
            "1145f234c80545e8860996a72ebf80ff",
            "fc027cd967cf496a8a24cf215aaf1eb0",
            "b4bb0c1b5935475c94054a006b0d199c",
            "9d02f9a713ce4c7da8400cc4d8217f9e"
          ]
        },
        "id": "e_jpbSRX9gYP",
        "outputId": "36abb719-7a66-4cc3-cf6a-bcd106af4c68"
      },
      "source": [
        "#@title 3. View images and add labels. Be sure to press Enter after each response to save the label!\n",
        "variable_name = \"\"\n",
        "names_and_labels_list = []\n",
        "def callback(wdgt):\n",
        "  name_and_label = {}\n",
        "  name_and_label['Original file name'] = wdgt.placeholder\n",
        "  name_and_label['Label'] = wdgt.value\n",
        "  names_and_labels_list.append(name_and_label)\n",
        "  # labels[wdgt.placeholder] = wdgt.value\n",
        "  wdgt.description = 'Saved.'\n",
        "\n",
        "for name, contents in uploader.value.items():\n",
        "  image = widgets.Image(\n",
        "        value=contents['content'],\n",
        "        format='png',\n",
        "        width=300,\n",
        "        height=400,\n",
        "    )\n",
        "  text = widgets.Text(\n",
        "      value='',\n",
        "      placeholder=name,\n",
        "      description='Enter label:',\n",
        "      disabled=False,\n",
        "      width = 600,\n",
        "  )\n",
        "  text.on_submit(callback)\n",
        "  display.display(image,text)\n"
      ],
      "execution_count": null,
      "outputs": [
        {
          "output_type": "display_data",
          "data": {
            "application/vnd.jupyter.widget-view+json": {
              "model_id": "8d2ee3a720994c1b9620be8a4e0e00c7",
              "version_major": 2,
              "version_minor": 0
            },
            "text/plain": [
              "Image(value=b'\\x89PNG\\r\\n\\x1a\\n\\x00\\x00\\x00\\rIHDR\\x00\\x00\\x02\\x8a\\x00\\x00\\x02\\x86\\x08\\x06\\x00\\x00\\x00\\xcd\\xb6\\…"
            ]
          },
          "metadata": {
            "tags": []
          }
        },
        {
          "output_type": "display_data",
          "data": {
            "application/vnd.jupyter.widget-view+json": {
              "model_id": "4897abf1445c41d5b6ab4f9d0b831ad9",
              "version_major": 2,
              "version_minor": 0
            },
            "text/plain": [
              "Text(value='', description='Enter label:', placeholder='20210523-AB-DOV_R3#-029.png')"
            ]
          },
          "metadata": {
            "tags": []
          }
        },
        {
          "output_type": "display_data",
          "data": {
            "application/vnd.jupyter.widget-view+json": {
              "model_id": "86d01deeaa4e458e922969e872f7bc52",
              "version_major": 2,
              "version_minor": 0
            },
            "text/plain": [
              "Image(value=b'\\x89PNG\\r\\n\\x1a\\n\\x00\\x00\\x00\\rIHDR\\x00\\x00\\x02\\x8a\\x00\\x00\\x02\\x86\\x08\\x06\\x00\\x00\\x00\\xcd\\xb6\\…"
            ]
          },
          "metadata": {
            "tags": []
          }
        },
        {
          "output_type": "display_data",
          "data": {
            "application/vnd.jupyter.widget-view+json": {
              "model_id": "6a3432f20a73432a84faf92f6b4faffd",
              "version_major": 2,
              "version_minor": 0
            },
            "text/plain": [
              "Text(value='', description='Enter label:', placeholder='20210522-AB-DOV_R2#-038.png')"
            ]
          },
          "metadata": {
            "tags": []
          }
        },
        {
          "output_type": "display_data",
          "data": {
            "application/vnd.jupyter.widget-view+json": {
              "model_id": "d2c35138343c46f09f26f9a9c91d0633",
              "version_major": 2,
              "version_minor": 0
            },
            "text/plain": [
              "Image(value=b'\\x89PNG\\r\\n\\x1a\\n\\x00\\x00\\x00\\rIHDR\\x00\\x00\\x02\\x8a\\x00\\x00\\x02\\x86\\x08\\x06\\x00\\x00\\x00\\xcd\\xb6\\…"
            ]
          },
          "metadata": {
            "tags": []
          }
        },
        {
          "output_type": "display_data",
          "data": {
            "application/vnd.jupyter.widget-view+json": {
              "model_id": "425bd0771fcd4d78aa3e9801d1a76099",
              "version_major": 2,
              "version_minor": 0
            },
            "text/plain": [
              "Text(value='', description='Enter label:', placeholder='20210522-AB-DOV_R2#-018.png')"
            ]
          },
          "metadata": {
            "tags": []
          }
        },
        {
          "output_type": "display_data",
          "data": {
            "application/vnd.jupyter.widget-view+json": {
              "model_id": "49342d4b1d044387959802d7d815bc68",
              "version_major": 2,
              "version_minor": 0
            },
            "text/plain": [
              "Image(value=b'\\x89PNG\\r\\n\\x1a\\n\\x00\\x00\\x00\\rIHDR\\x00\\x00\\x02\\x8a\\x00\\x00\\x02\\x86\\x08\\x06\\x00\\x00\\x00\\xcd\\xb6\\…"
            ]
          },
          "metadata": {
            "tags": []
          }
        },
        {
          "output_type": "display_data",
          "data": {
            "application/vnd.jupyter.widget-view+json": {
              "model_id": "3ce5d4e716d14c3692c30bb866a56d4d",
              "version_major": 2,
              "version_minor": 0
            },
            "text/plain": [
              "Text(value='', description='Enter label:', placeholder='20210522-AB-DOV_R2#-027.png')"
            ]
          },
          "metadata": {
            "tags": []
          }
        },
        {
          "output_type": "display_data",
          "data": {
            "application/vnd.jupyter.widget-view+json": {
              "model_id": "cb8dd86582fb4fceb5d29cd02bb463bb",
              "version_major": 2,
              "version_minor": 0
            },
            "text/plain": [
              "Image(value=b'\\x89PNG\\r\\n\\x1a\\n\\x00\\x00\\x00\\rIHDR\\x00\\x00\\x02\\x8a\\x00\\x00\\x02\\x86\\x08\\x06\\x00\\x00\\x00\\xcd\\xb6\\…"
            ]
          },
          "metadata": {
            "tags": []
          }
        },
        {
          "output_type": "display_data",
          "data": {
            "application/vnd.jupyter.widget-view+json": {
              "model_id": "32aedb19fded4de89fb8d43e33127f8e",
              "version_major": 2,
              "version_minor": 0
            },
            "text/plain": [
              "Text(value='', description='Enter label:', placeholder='20210523-AB-DOV_R3#-039.png')"
            ]
          },
          "metadata": {
            "tags": []
          }
        },
        {
          "output_type": "display_data",
          "data": {
            "application/vnd.jupyter.widget-view+json": {
              "model_id": "d1b119adc249404c802e74fe55d55e2c",
              "version_major": 2,
              "version_minor": 0
            },
            "text/plain": [
              "Image(value=b'\\x89PNG\\r\\n\\x1a\\n\\x00\\x00\\x00\\rIHDR\\x00\\x00\\x02\\x8a\\x00\\x00\\x02\\x86\\x08\\x06\\x00\\x00\\x00\\xcd\\xb6\\…"
            ]
          },
          "metadata": {
            "tags": []
          }
        },
        {
          "output_type": "display_data",
          "data": {
            "application/vnd.jupyter.widget-view+json": {
              "model_id": "f99a1425bb284651ba1b6a910c417f54",
              "version_major": 2,
              "version_minor": 0
            },
            "text/plain": [
              "Text(value='', description='Enter label:', placeholder='20210523-AB-DOV_R3#-026.png')"
            ]
          },
          "metadata": {
            "tags": []
          }
        },
        {
          "output_type": "display_data",
          "data": {
            "application/vnd.jupyter.widget-view+json": {
              "model_id": "2113de5a07bd4ba9a0ae4889cf719445",
              "version_major": 2,
              "version_minor": 0
            },
            "text/plain": [
              "Image(value=b'\\x89PNG\\r\\n\\x1a\\n\\x00\\x00\\x00\\rIHDR\\x00\\x00\\x02\\x8a\\x00\\x00\\x02\\x86\\x08\\x06\\x00\\x00\\x00\\xcd\\xb6\\…"
            ]
          },
          "metadata": {
            "tags": []
          }
        },
        {
          "output_type": "display_data",
          "data": {
            "application/vnd.jupyter.widget-view+json": {
              "model_id": "81860db1b4f64422a88e0cfd96c80e23",
              "version_major": 2,
              "version_minor": 0
            },
            "text/plain": [
              "Text(value='', description='Enter label:', placeholder='20210523-AB-DOV_R3#-018.png')"
            ]
          },
          "metadata": {
            "tags": []
          }
        },
        {
          "output_type": "display_data",
          "data": {
            "application/vnd.jupyter.widget-view+json": {
              "model_id": "1145f234c80545e8860996a72ebf80ff",
              "version_major": 2,
              "version_minor": 0
            },
            "text/plain": [
              "Image(value=b'\\x89PNG\\r\\n\\x1a\\n\\x00\\x00\\x00\\rIHDR\\x00\\x00\\x02\\x8a\\x00\\x00\\x02\\x86\\x08\\x06\\x00\\x00\\x00\\xcd\\xb6\\…"
            ]
          },
          "metadata": {
            "tags": []
          }
        },
        {
          "output_type": "display_data",
          "data": {
            "application/vnd.jupyter.widget-view+json": {
              "model_id": "fc027cd967cf496a8a24cf215aaf1eb0",
              "version_major": 2,
              "version_minor": 0
            },
            "text/plain": [
              "Text(value='', description='Enter label:', placeholder='20210523-AB-DOV_R3#.png')"
            ]
          },
          "metadata": {
            "tags": []
          }
        },
        {
          "output_type": "display_data",
          "data": {
            "application/vnd.jupyter.widget-view+json": {
              "model_id": "b4bb0c1b5935475c94054a006b0d199c",
              "version_major": 2,
              "version_minor": 0
            },
            "text/plain": [
              "Image(value=b'\\x89PNG\\r\\n\\x1a\\n\\x00\\x00\\x00\\rIHDR\\x00\\x00\\x02\\x8a\\x00\\x00\\x02\\x86\\x08\\x06\\x00\\x00\\x00\\xcd\\xb6\\…"
            ]
          },
          "metadata": {
            "tags": []
          }
        },
        {
          "output_type": "display_data",
          "data": {
            "application/vnd.jupyter.widget-view+json": {
              "model_id": "9d02f9a713ce4c7da8400cc4d8217f9e",
              "version_major": 2,
              "version_minor": 0
            },
            "text/plain": [
              "Text(value='', description='Enter label:', placeholder='20210523-AB-DOV_R4#-013.png')"
            ]
          },
          "metadata": {
            "tags": []
          }
        }
      ]
    },
    {
      "cell_type": "code",
      "metadata": {
        "cellView": "form",
        "id": "iHeWjCKj-9YT"
      },
      "source": [
        "#@title 4. Save responses to CSV.\n",
        "csv_columns = ['Original file name','Label']\n",
        "now = datetime.now().strftime(\"%d_%m_%Y_%H_%M_%S\")\n",
        "csv_file = \"Image_Labels_%s.csv\" % now\n",
        "try:\n",
        "    with open(csv_file, 'w') as csvfile:\n",
        "        writer = csv.DictWriter(csvfile, fieldnames=csv_columns)\n",
        "        writer.writeheader()\n",
        "        for data in names_and_labels_list:\n",
        "            writer.writerow(data)\n",
        "        print('Responses saved to %s' % csv_file)\n",
        "        print('View responses under the Files icon on the left.')\n",
        "except IOError:\n",
        "    print(\"I/O error\")"
      ],
      "execution_count": null,
      "outputs": []
    },
    {
      "cell_type": "markdown",
      "metadata": {
        "id": "d9waQvI8kAaU"
      },
      "source": [
        "Repeat steps 2 - 4 until complete. Download the CSV files when finished."
      ]
    }
  ]
}